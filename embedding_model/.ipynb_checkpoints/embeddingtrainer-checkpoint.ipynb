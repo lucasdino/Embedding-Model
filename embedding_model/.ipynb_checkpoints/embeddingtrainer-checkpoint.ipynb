{
 "cells": [
  {
   "cell_type": "markdown",
   "id": "0948d168-bc6d-49f0-a0a8-46ffef674a9c",
   "metadata": {},
   "source": [
    "# Embedding Trainer\n",
    "---\n",
    "Main script to train our various embedding models. What we'll do is import our 'Embedding Model' objects that we'll define in other files - and this code will be the training loop and will save the results to various folders."
   ]
  },
  {
   "cell_type": "markdown",
   "id": "cc84fc05-e0dc-4820-b6d5-7593b3569bda",
   "metadata": {},
   "source": [
    "### Import Dependencies"
   ]
  },
  {
   "cell_type": "code",
   "execution_count": 1,
   "id": "f49e9ebe-1710-4b4b-9828-c79e96dd34c8",
   "metadata": {},
   "outputs": [],
   "source": [
    "import sentencepiece as spm"
   ]
  },
  {
   "cell_type": "markdown",
   "id": "3c18bf2d-67c0-4610-bee2-c956cb56b126",
   "metadata": {},
   "source": [
    "### Set Up Data Pipeline"
   ]
  },
  {
   "cell_type": "code",
   "execution_count": 4,
   "id": "3b78d90c-3957-4114-90e7-8bf6a60c19c4",
   "metadata": {},
   "outputs": [
    {
     "name": "stdout",
     "output_type": "stream",
     "text": [
      "Encoded pieces: ['▁This', '▁is', '▁an', '▁example', '▁sentence', '.']\n",
      "Encoded ids: [640, 74, 96, 2405, 4609, 15944]\n",
      "Decoded text: This is an example sentence.\n"
     ]
    }
   ],
   "source": [
    "# First - let's get our tokenizer that we already trained\n",
    "model_file = '../tokenizer/models/sp_tokenizer_model.model'\n",
    "sp = spm.SentencePieceProcessor()\n",
    "sp.load(model_file)\n",
    "\n",
    "# Test to ensure our code runs properly\n",
    "text = \"This is an example sentence.\"\n",
    "encoded_pieces = sp.encode_as_pieces(text)\n",
    "encoded_ids = sp.encode_as_ids(text)\n",
    "print(\"Encoded pieces:\", encoded_pieces)\n",
    "print(\"Encoded ids:\", encoded_ids)\n",
    "print(\"Decoded text:\", sp.decode(encoded_ids))"
   ]
  }
 ],
 "metadata": {
  "kernelspec": {
   "display_name": "Python 3 (ipykernel)",
   "language": "python",
   "name": "python3"
  },
  "language_info": {
   "codemirror_mode": {
    "name": "ipython",
    "version": 3
   },
   "file_extension": ".py",
   "mimetype": "text/x-python",
   "name": "python",
   "nbconvert_exporter": "python",
   "pygments_lexer": "ipython3",
   "version": "3.11.3"
  }
 },
 "nbformat": 4,
 "nbformat_minor": 5
}
