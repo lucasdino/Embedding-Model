{
 "cells": [
  {
   "cell_type": "markdown",
   "id": "5aa57620-fda0-4d33-8b75-bef24768f5de",
   "metadata": {},
   "source": [
    "# Analyzing Our Trained Embeddings\n",
    "---"
   ]
  },
  {
   "cell_type": "markdown",
   "id": "a1a887fc-c0b6-42da-b42b-97a66669b360",
   "metadata": {},
   "source": [
    "### Import Dependencies"
   ]
  },
  {
   "cell_type": "code",
   "execution_count": 1,
   "id": "9664a877-6ed5-485c-9642-4bfd83d9b1a2",
   "metadata": {},
   "outputs": [],
   "source": [
    "# First - need to import sys and os and nav to our project_root\n",
    "import sys\n",
    "import os\n",
    "\n",
    "project_root = os.path.dirname(os.getcwd())\n",
    "sys.path.append(project_root)\n",
    "\n",
    "# Now import our dependencies\n",
    "import torch\n",
    "import torch.nn as nn\n",
    "from torch.nn import functional as F\n",
    "import torch.optim as optim\n",
    "import numpy as np\n",
    "import pandas as pd\n",
    "from tokenizer.tokenizer import MyTokenizer\n",
    "import matplotlib.pyplot as plt\n",
    "import plotly.graph_objs as go"
   ]
  },
  {
   "cell_type": "code",
   "execution_count": 2,
   "id": "0acee63a-1f58-4264-972e-cef68ed4ab15",
   "metadata": {},
   "outputs": [
    {
     "name": "stdout",
     "output_type": "stream",
     "text": [
      "Using device: cuda\n"
     ]
    }
   ],
   "source": [
    "device = torch.device(\"cuda\" if torch.cuda.is_available() else \"cpu\")\n",
    "print(f\"Using device: {device}\")\n",
    "\n",
    "# Import tokenizer\n",
    "tokenizer = MyTokenizer()\n",
    "tk_vocab_size = tokenizer.get_vocab_size()"
   ]
  },
  {
   "cell_type": "markdown",
   "id": "4d3a99a3-6fe3-43fe-acfa-9d1b503ffc33",
   "metadata": {},
   "source": [
    "### Import our Model"
   ]
  },
  {
   "cell_type": "code",
   "execution_count": 3,
   "id": "88706d80-adae-4750-a918-84e287f52612",
   "metadata": {},
   "outputs": [],
   "source": [
    "# Continuous Bag of Words model for training embeddings as specified in Word2Vec (https://arxiv.org/pdf/1301.3781.pdf)\n",
    "class CBOW_NegativeSampling(nn.Module):\n",
    "    def __init__(self, embed_dim, tokenizer, effic_strat=None, vocab_size=tk_vocab_size, device=device):\n",
    "        \"\"\"\n",
    "        Inputs:\n",
    "            embed_dim:   (int) number of dimensions for our embeddings\n",
    "            effic_strat: (str) either 'neg-sample' or 'hier-softmax' - used to define which strategy for efficient computation to use\n",
    "            vocab_size:  (int) the size of the vocabulary\n",
    "            device:      Pytorch device (cuda / cpu)\n",
    "        \"\"\"\n",
    "        super().__init__()\n",
    "        self.device = device\n",
    "        self.embed_dim = embed_dim\n",
    "        self.vocab_size = vocab_size\n",
    "        self.tokenizer = tokenizer\n",
    "        self.token_frequencies = tokenizer.get_frequency_tensor().to(device)\n",
    "        self.embeddings = nn.Embedding(vocab_size, embed_dim).to(device)\n",
    "        \n",
    "        self.initialize_embeddings()\n",
    "\n",
    "    def initialize_embeddings(self):\n",
    "        \"\"\" Initializes the embedding weights to a normal distribution with mean 0 and a specified variance \"\"\"\n",
    "        nn.init.normal_(self.embeddings.weight, mean=0.0, std=1)\n",
    "\n",
    "    def forward(self, context_indices, positive_indices, num_negative_samples=5):\n",
    "        \"\"\"\n",
    "            Performs a forward pass with negative sampling.\n",
    "            \n",
    "            Parameters:\n",
    "            - context_indices: Indices of the context words [B, Context_size].\n",
    "            - positive_indices: Indices of the target (positive) words [B, 1].\n",
    "            - num_negative_samples: Number of negative samples per positive sample.\n",
    "        \"\"\"\n",
    "        # Get the embeddings for our context vectors and average -- will use this to estimate for our positive and negative samples\n",
    "        batch_size = context_indices.size(0)\n",
    "        context_embeds = self.embeddings(context_indices).mean(dim=1, keepdims=True)         # [B, context_size, embed_dim] --> [B x 1 x embed_dim]\n",
    "    \n",
    "        # Compute loss on positive samples (what we're looking for)\n",
    "        positive_embeds = self.embeddings(positive_indices).unsqueeze(-1)                    # [B, embed_dim, 1]\n",
    "        positive_logits = torch.bmm(context_embeds, positive_embeds).squeeze()               # [B x 1 x embed_dim] @ [B, embed_dim, 1] -> [B, 1, 1] -> [B]\n",
    "        positive_labels = torch.ones_like(positive_logits)\n",
    "        positive_loss = F.binary_cross_entropy_with_logits(positive_logits, positive_labels) # [B]\n",
    "    \n",
    "        # Compute loss on negative samples (teach model to move negative samples away from each other\n",
    "        negative_indices = torch.multinomial(self.token_frequencies, num_samples=batch_size*num_negative_samples, replacement=True).reshape(batch_size, num_negative_samples)\n",
    "        negative_embeds = self.embeddings(negative_indices).transpose(1,2)                   # [B, embed_dim, num_negative_samples]\n",
    "        negative_logits = torch.bmm(context_embeds, negative_embeds).squeeze()               # [B, num_negative_samples]\n",
    "        negative_labels = torch.zeros_like(negative_logits)\n",
    "        negative_loss = F.binary_cross_entropy_with_logits(negative_logits, negative_labels) # [B, num_negative_samples]\n",
    "\n",
    "        return positive_loss + negative_loss.mean()   # [B]\n",
    "\n",
    "    def find_closest_embeddings(self, input_embedding, n=5):\n",
    "        \"\"\"\n",
    "            Find the n embeddings in the model that have the largest cosine similarity\n",
    "            to the given input_embedding.\n",
    "    \n",
    "            Inputs:\n",
    "                input_embedding (Tensor): The input embedding vector.\n",
    "                n (int): The number of closest embeddings to return.\n",
    "    \n",
    "            Returns a tensor of indices of the n closest embeddings.\n",
    "        \"\"\"\n",
    "        input_embedding_norm = input_embedding / input_embedding.norm()                    # [1 x emb_dim]\n",
    "        all_embeddings = self.embeddings.weight\n",
    "        all_embeddings_norm = all_embeddings / all_embeddings.norm(dim=1, keepdim=True)    # [vocab_size x emb_dim]\n",
    "        similarities = F.cosine_similarity(input_embedding_norm, all_embeddings_norm, dim=1)\n",
    "        values, indices = torch.topk(similarities, n)\n",
    "        return indices\n",
    "\n",
    "    def get_embedding(self, index):\n",
    "        \"\"\" Retrieve the vector embedding corresponding to a given index Returns a tensor of the embedding vector \"\"\"\n",
    "        return self.embeddings.weight[index]\n",
    "\n",
    "    def save_weights(self, filename):\n",
    "        \"\"\" Save the model weights to a file \"\"\"\n",
    "        torch.save(self.state_dict(), filename)\n",
    "\n",
    "    def load_weights(self, filename):\n",
    "        \"\"\" Load the model weights from a file. Ex. 'trained_models/mymodel.pth' \"\"\"\n",
    "        self.load_state_dict(torch.load(filename, map_location=self.device))\n",
    "        print(f\"Model weights loaded from {filename}\")"
   ]
  },
  {
   "cell_type": "code",
   "execution_count": 4,
   "id": "5af6ebb7-da40-4271-875e-bfa8bd534ef9",
   "metadata": {},
   "outputs": [
    {
     "name": "stdout",
     "output_type": "stream",
     "text": [
      "Model weights loaded from trained_models\\CBOW-5-NS-16k-2024-04-20_23-29.pth\n"
     ]
    }
   ],
   "source": [
    "# Import and load our model weights\n",
    "model_fn = \"CBOW-5-NS-16k-2024-04-20_23-29\"\n",
    "mymodel = CBOW_NegativeSampling(embed_dim=512, tokenizer=tokenizer)\n",
    "mymodel.load_weights(os.path.join(\"trained_models\", model_fn+\".pth\"))\n",
    "embeds = mymodel.embeddings.weight.detach()"
   ]
  },
  {
   "cell_type": "markdown",
   "id": "5fd9fb77-9f93-4760-a081-3a81bbb563b2",
   "metadata": {},
   "source": [
    "### Cosine Similarity to Understand Semantic Meaning\n",
    "---\n",
    "**1)** See what words are the most similar to our target word   \n",
    "**2)** Word vector algebra (similar to the Word2Vec paper)"
   ]
  },
  {
   "cell_type": "code",
   "execution_count": 32,
   "id": "5cc5ae5f-4c17-428c-bd8d-70a664f09995",
   "metadata": {},
   "outputs": [
    {
     "name": "stdout",
     "output_type": "stream",
     "text": [
      "Closest tokens for: England\n",
      "Token: [2676] - ['▁England']\n",
      "------------------------------------------------------------\n",
      "Id: 1 - France\n",
      "Id: 2 - Ireland\n",
      "Id: 3 - Scotland\n",
      "Id: 4 - New\n",
      "Id: 5 - Spain\n",
      "Id: 6 - Church\n",
      "Id: 7 - Rome\n",
      "Id: 8 - Italy\n",
      "Id: 9 - London\n",
      "Id: 10 - Mexico\n"
     ]
    }
   ],
   "source": [
    "def print_closest_ids(string):\n",
    "    tok = tokenizer.encode_as_ids(string)\n",
    "    tok_text = tokenizer.encode_as_pieces(string)\n",
    "    if len(tok)>1:\n",
    "        print(\"Try new token - token length > 1\")\n",
    "        return\n",
    "\n",
    "    token_embedding = mymodel.get_embedding(tok)\n",
    "    closest_ids = mymodel.find_closest_embeddings(token_embedding, n=11)\n",
    "    closest_ids = (closest_ids.to('cpu')).flatten().tolist()\n",
    "    print(f\"Closest tokens for: {string}\\nToken: {tok} - {tok_text}\\n{'-'*60}\")\n",
    "    for i, id in enumerate(closest_ids):\n",
    "        if i == 0:\n",
    "            continue\n",
    "        print(f\"Id: {i} - {tokenizer.decode(id)}\")\n",
    "\n",
    "# Testing\n",
    "test_word = \"England\"\n",
    "print_closest_ids(test_word)"
   ]
  },
  {
   "cell_type": "code",
   "execution_count": 36,
   "id": "79bebddc-48c1-420e-a830-fa747efee7a6",
   "metadata": {},
   "outputs": [
    {
     "name": "stdout",
     "output_type": "stream",
     "text": [
      "Closest tokens for: 'London' - 'England' + 'France'\n",
      "------------------------------------------------------------\n",
      "Id: 1 - London\n",
      "Id: 2 - France\n",
      "Id: 3 - Paris\n",
      "Id: 4 - March\n",
      "Id: 5 - Italy\n",
      "Id: 6 - namely\n",
      "Id: 7 - ,\n",
      "Id: 8 - May\n",
      "Id: 9 - Germany\n",
      "Id: 10 - ville\n"
     ]
    }
   ],
   "source": [
    "# Defining a - b + c = ?\n",
    "def closest_arith(a, b, c, n=10):\n",
    "    \n",
    "    tok_a = tokenizer.encode_as_ids(a)\n",
    "    tok_b = tokenizer.encode_as_ids(b)\n",
    "    tok_c = tokenizer.encode_as_ids(c)\n",
    "    \n",
    "    if (len(tok_a) + len(tok_b) + len(tok_c)) > 3:\n",
    "        print(\"Words not single tokens\")\n",
    "        return\n",
    "    \n",
    "    emb_a = mymodel.get_embedding(tok_a)\n",
    "    emb_b = mymodel.get_embedding(tok_b)\n",
    "    emb_c = mymodel.get_embedding(tok_c)\n",
    "\n",
    "    new_emb = (emb_a - emb_b + emb_c)\n",
    "    new_emb = new_emb / new_emb.norm()\n",
    "    closest_ids = mymodel.find_closest_embeddings(new_emb, n)\n",
    "    closest_ids = (closest_ids.to('cpu')).flatten().tolist()\n",
    "    print(f\"Closest tokens for: '{a}' - '{b}' + '{c}'\\n{'-'*60}\")\n",
    "    for i, id in enumerate(closest_ids):\n",
    "        print(f\"Id: {i+1} - {tokenizer.decode(id)}\")\n",
    "\n",
    "a = \"London\"\n",
    "b = \"England\"\n",
    "c = \"France\"\n",
    "closest_arith(a, b, c)"
   ]
  },
  {
   "cell_type": "markdown",
   "id": "21527f05-9d8f-40cb-beda-a7da7c488f03",
   "metadata": {},
   "source": [
    "### Conduct PCA\n",
    "---\n",
    "**1)** We see that the singular values are all important. This is good! This shows that our word embeddings took advantage of all the dimensions available during training.   \n",
    "**2)** In order to visualize our data, let's pull a subset of words that are similar to each other to see how the data differs."
   ]
  },
  {
   "cell_type": "code",
   "execution_count": 5,
   "id": "4b6a6a2f-f0b9-447f-982a-50440d47899b",
   "metadata": {},
   "outputs": [
    {
     "name": "stdout",
     "output_type": "stream",
     "text": [
      "U: torch.Size([512, 512])\n",
      "S: torch.Size([512])\n",
      "Vt: torch.Size([16384, 512])\n",
      "--------------------------------------------------\n",
      "Max SV: 29.435\n",
      "Min SV: 4.320\n"
     ]
    }
   ],
   "source": [
    "# Compute SVD\n",
    "U, S, Vt = torch.svd(F.normalize(embeds.T, dim=0))\n",
    "print(f\"U: {U.shape}\\nS: {S.shape}\\nVt: {Vt.shape}\")\n",
    "print(f\"{'-'*50}\\nMax SV: {S.max():.3f}\\nMin SV: {S.min():.3f}\")"
   ]
  },
  {
   "cell_type": "code",
   "execution_count": 22,
   "id": "892ac4e7-0e21-4a3d-b402-e674610b3c4c",
   "metadata": {},
   "outputs": [
    {
     "name": "stdout",
     "output_type": "stream",
     "text": [
      "All words are one token!\n"
     ]
    }
   ],
   "source": [
    "# words = [\"large\", \"small\", \"number\", \"considerable\", \"very\", \"larger\", \"big\"]\n",
    "# words = [\"red\", \"blue\", \"yellow\", \"brown\", \"black\", \"green\", \"purple\", \"white\"]\n",
    "# words = [\"large\", \"small\", \"number\", \"very\", \"big\", \"green\", \"yellow\", \"blue\", \"white\", \"black\"]\n",
    "# words = [\"tear\", \"cry\", \"cried\", \"separate\", \"divided\", \"separated\"]\n",
    "words = [\"boy\", \"girl\", \"child\", \"lady\", \"woman\", \"mother\", \"green\", \"yellow\", \"blue\", \"white\", \"black\"]\n",
    "# words = [\"Japan\", \"England\", \"France\", \"Germany\", \"Tokyo\", \"London\", \"Paris\", \"Berlin\"]\n",
    "\n",
    "# Confirm words are all a single token\n",
    "all_singles = True\n",
    "for word in words:\n",
    "    if len(tokenizer.encode_as_pieces(word)) > 1:\n",
    "        print(f\"\\\"{word}\\\" is multiple tokens\")\n",
    "        all_singles = False\n",
    "if all_singles:\n",
    "    print(\"All words are one token!\")"
   ]
  },
  {
   "cell_type": "code",
   "execution_count": 23,
   "id": "577b3c70-5783-4bf7-a9c3-f7356d22cfbe",
   "metadata": {},
   "outputs": [],
   "source": [
    "# Conducting PCA - given the high-dimensionality, even words that are 'close' to each other (cos. sim.) have different dimensionality associated with each other\n",
    "word_embs = mymodel.embeddings(torch.tensor(tokenizer.encode_as_ids(words), device=device)).squeeze(1)     # [words x emb_dims]\n",
    "word_embs = word_embs - word_embs.mean(dim=0)         # Subtract the mean\n",
    "U, S, Vt = torch.linalg.svd(word_embs.T)                     # Compute SVD w.r.t. transpose ([emb_dims x words])\n",
    "\n",
    "# We want to plot the first 3 rows of Vt (gives us shape [3 x words]) as these are the principle components\n",
    "prin_comp = Vt[:3, :].detach().cpu().numpy()\n",
    "\n",
    "# Casting to 2-d\n",
    "twod_adj = np.eye(3)\n",
    "twod_adj[2,2] = 0\n",
    "twod_adj[1,1] = 0\n",
    "\n",
    "prin_comp = S[:3].detach().cpu().numpy()*np.eye(3) @ prin_comp"
   ]
  },
  {
   "cell_type": "code",
   "execution_count": 27,
   "id": "9c023b5b-ae07-4486-acf8-6e203805e0f7",
   "metadata": {},
   "outputs": [
    {
     "data": {
      "application/vnd.plotly.v1+json": {
       "config": {
        "plotlyServerURL": "https://plot.ly"
       },
       "data": [
        {
         "marker": {
          "color": [
           "red",
           "red",
           "red",
           "red",
           "red",
           "red",
           "blue",
           "blue",
           "blue",
           "blue",
           "blue"
          ],
          "opacity": 0.8,
          "size": 6
         },
         "mode": "markers",
         "type": "scatter",
         "x": [
          3.6181470030206526,
          4.808622686057646,
          2.456190607973838,
          4.094386632005211,
          1.951606613653695,
          2.4176902042797224,
          -4.276062680124767,
          -5.313640357913556,
          -4.207389207243409,
          -2.7867432548362956,
          -2.762806613777414
         ],
         "y": [
          -0.3887169481980095,
          4.531981442494725,
          -3.2853933498327024,
          2.6023158349184996,
          -1.3854688572289433,
          -3.8267049756841516,
          0.0725500812677069,
          0.7909606189258511,
          2.8197896638876045,
          -1.0602771720623423,
          -0.8710390474687983
         ]
        }
       ],
       "layout": {
        "height": 600,
        "template": {
         "data": {
          "bar": [
           {
            "error_x": {
             "color": "#2a3f5f"
            },
            "error_y": {
             "color": "#2a3f5f"
            },
            "marker": {
             "line": {
              "color": "#E5ECF6",
              "width": 0.5
             },
             "pattern": {
              "fillmode": "overlay",
              "size": 10,
              "solidity": 0.2
             }
            },
            "type": "bar"
           }
          ],
          "barpolar": [
           {
            "marker": {
             "line": {
              "color": "#E5ECF6",
              "width": 0.5
             },
             "pattern": {
              "fillmode": "overlay",
              "size": 10,
              "solidity": 0.2
             }
            },
            "type": "barpolar"
           }
          ],
          "carpet": [
           {
            "aaxis": {
             "endlinecolor": "#2a3f5f",
             "gridcolor": "white",
             "linecolor": "white",
             "minorgridcolor": "white",
             "startlinecolor": "#2a3f5f"
            },
            "baxis": {
             "endlinecolor": "#2a3f5f",
             "gridcolor": "white",
             "linecolor": "white",
             "minorgridcolor": "white",
             "startlinecolor": "#2a3f5f"
            },
            "type": "carpet"
           }
          ],
          "choropleth": [
           {
            "colorbar": {
             "outlinewidth": 0,
             "ticks": ""
            },
            "type": "choropleth"
           }
          ],
          "contour": [
           {
            "colorbar": {
             "outlinewidth": 0,
             "ticks": ""
            },
            "colorscale": [
             [
              0,
              "#0d0887"
             ],
             [
              0.1111111111111111,
              "#46039f"
             ],
             [
              0.2222222222222222,
              "#7201a8"
             ],
             [
              0.3333333333333333,
              "#9c179e"
             ],
             [
              0.4444444444444444,
              "#bd3786"
             ],
             [
              0.5555555555555556,
              "#d8576b"
             ],
             [
              0.6666666666666666,
              "#ed7953"
             ],
             [
              0.7777777777777778,
              "#fb9f3a"
             ],
             [
              0.8888888888888888,
              "#fdca26"
             ],
             [
              1,
              "#f0f921"
             ]
            ],
            "type": "contour"
           }
          ],
          "contourcarpet": [
           {
            "colorbar": {
             "outlinewidth": 0,
             "ticks": ""
            },
            "type": "contourcarpet"
           }
          ],
          "heatmap": [
           {
            "colorbar": {
             "outlinewidth": 0,
             "ticks": ""
            },
            "colorscale": [
             [
              0,
              "#0d0887"
             ],
             [
              0.1111111111111111,
              "#46039f"
             ],
             [
              0.2222222222222222,
              "#7201a8"
             ],
             [
              0.3333333333333333,
              "#9c179e"
             ],
             [
              0.4444444444444444,
              "#bd3786"
             ],
             [
              0.5555555555555556,
              "#d8576b"
             ],
             [
              0.6666666666666666,
              "#ed7953"
             ],
             [
              0.7777777777777778,
              "#fb9f3a"
             ],
             [
              0.8888888888888888,
              "#fdca26"
             ],
             [
              1,
              "#f0f921"
             ]
            ],
            "type": "heatmap"
           }
          ],
          "heatmapgl": [
           {
            "colorbar": {
             "outlinewidth": 0,
             "ticks": ""
            },
            "colorscale": [
             [
              0,
              "#0d0887"
             ],
             [
              0.1111111111111111,
              "#46039f"
             ],
             [
              0.2222222222222222,
              "#7201a8"
             ],
             [
              0.3333333333333333,
              "#9c179e"
             ],
             [
              0.4444444444444444,
              "#bd3786"
             ],
             [
              0.5555555555555556,
              "#d8576b"
             ],
             [
              0.6666666666666666,
              "#ed7953"
             ],
             [
              0.7777777777777778,
              "#fb9f3a"
             ],
             [
              0.8888888888888888,
              "#fdca26"
             ],
             [
              1,
              "#f0f921"
             ]
            ],
            "type": "heatmapgl"
           }
          ],
          "histogram": [
           {
            "marker": {
             "pattern": {
              "fillmode": "overlay",
              "size": 10,
              "solidity": 0.2
             }
            },
            "type": "histogram"
           }
          ],
          "histogram2d": [
           {
            "colorbar": {
             "outlinewidth": 0,
             "ticks": ""
            },
            "colorscale": [
             [
              0,
              "#0d0887"
             ],
             [
              0.1111111111111111,
              "#46039f"
             ],
             [
              0.2222222222222222,
              "#7201a8"
             ],
             [
              0.3333333333333333,
              "#9c179e"
             ],
             [
              0.4444444444444444,
              "#bd3786"
             ],
             [
              0.5555555555555556,
              "#d8576b"
             ],
             [
              0.6666666666666666,
              "#ed7953"
             ],
             [
              0.7777777777777778,
              "#fb9f3a"
             ],
             [
              0.8888888888888888,
              "#fdca26"
             ],
             [
              1,
              "#f0f921"
             ]
            ],
            "type": "histogram2d"
           }
          ],
          "histogram2dcontour": [
           {
            "colorbar": {
             "outlinewidth": 0,
             "ticks": ""
            },
            "colorscale": [
             [
              0,
              "#0d0887"
             ],
             [
              0.1111111111111111,
              "#46039f"
             ],
             [
              0.2222222222222222,
              "#7201a8"
             ],
             [
              0.3333333333333333,
              "#9c179e"
             ],
             [
              0.4444444444444444,
              "#bd3786"
             ],
             [
              0.5555555555555556,
              "#d8576b"
             ],
             [
              0.6666666666666666,
              "#ed7953"
             ],
             [
              0.7777777777777778,
              "#fb9f3a"
             ],
             [
              0.8888888888888888,
              "#fdca26"
             ],
             [
              1,
              "#f0f921"
             ]
            ],
            "type": "histogram2dcontour"
           }
          ],
          "mesh3d": [
           {
            "colorbar": {
             "outlinewidth": 0,
             "ticks": ""
            },
            "type": "mesh3d"
           }
          ],
          "parcoords": [
           {
            "line": {
             "colorbar": {
              "outlinewidth": 0,
              "ticks": ""
             }
            },
            "type": "parcoords"
           }
          ],
          "pie": [
           {
            "automargin": true,
            "type": "pie"
           }
          ],
          "scatter": [
           {
            "fillpattern": {
             "fillmode": "overlay",
             "size": 10,
             "solidity": 0.2
            },
            "type": "scatter"
           }
          ],
          "scatter3d": [
           {
            "line": {
             "colorbar": {
              "outlinewidth": 0,
              "ticks": ""
             }
            },
            "marker": {
             "colorbar": {
              "outlinewidth": 0,
              "ticks": ""
             }
            },
            "type": "scatter3d"
           }
          ],
          "scattercarpet": [
           {
            "marker": {
             "colorbar": {
              "outlinewidth": 0,
              "ticks": ""
             }
            },
            "type": "scattercarpet"
           }
          ],
          "scattergeo": [
           {
            "marker": {
             "colorbar": {
              "outlinewidth": 0,
              "ticks": ""
             }
            },
            "type": "scattergeo"
           }
          ],
          "scattergl": [
           {
            "marker": {
             "colorbar": {
              "outlinewidth": 0,
              "ticks": ""
             }
            },
            "type": "scattergl"
           }
          ],
          "scattermapbox": [
           {
            "marker": {
             "colorbar": {
              "outlinewidth": 0,
              "ticks": ""
             }
            },
            "type": "scattermapbox"
           }
          ],
          "scatterpolar": [
           {
            "marker": {
             "colorbar": {
              "outlinewidth": 0,
              "ticks": ""
             }
            },
            "type": "scatterpolar"
           }
          ],
          "scatterpolargl": [
           {
            "marker": {
             "colorbar": {
              "outlinewidth": 0,
              "ticks": ""
             }
            },
            "type": "scatterpolargl"
           }
          ],
          "scatterternary": [
           {
            "marker": {
             "colorbar": {
              "outlinewidth": 0,
              "ticks": ""
             }
            },
            "type": "scatterternary"
           }
          ],
          "surface": [
           {
            "colorbar": {
             "outlinewidth": 0,
             "ticks": ""
            },
            "colorscale": [
             [
              0,
              "#0d0887"
             ],
             [
              0.1111111111111111,
              "#46039f"
             ],
             [
              0.2222222222222222,
              "#7201a8"
             ],
             [
              0.3333333333333333,
              "#9c179e"
             ],
             [
              0.4444444444444444,
              "#bd3786"
             ],
             [
              0.5555555555555556,
              "#d8576b"
             ],
             [
              0.6666666666666666,
              "#ed7953"
             ],
             [
              0.7777777777777778,
              "#fb9f3a"
             ],
             [
              0.8888888888888888,
              "#fdca26"
             ],
             [
              1,
              "#f0f921"
             ]
            ],
            "type": "surface"
           }
          ],
          "table": [
           {
            "cells": {
             "fill": {
              "color": "#EBF0F8"
             },
             "line": {
              "color": "white"
             }
            },
            "header": {
             "fill": {
              "color": "#C8D4E3"
             },
             "line": {
              "color": "white"
             }
            },
            "type": "table"
           }
          ]
         },
         "layout": {
          "annotationdefaults": {
           "arrowcolor": "#2a3f5f",
           "arrowhead": 0,
           "arrowwidth": 1
          },
          "autotypenumbers": "strict",
          "coloraxis": {
           "colorbar": {
            "outlinewidth": 0,
            "ticks": ""
           }
          },
          "colorscale": {
           "diverging": [
            [
             0,
             "#8e0152"
            ],
            [
             0.1,
             "#c51b7d"
            ],
            [
             0.2,
             "#de77ae"
            ],
            [
             0.3,
             "#f1b6da"
            ],
            [
             0.4,
             "#fde0ef"
            ],
            [
             0.5,
             "#f7f7f7"
            ],
            [
             0.6,
             "#e6f5d0"
            ],
            [
             0.7,
             "#b8e186"
            ],
            [
             0.8,
             "#7fbc41"
            ],
            [
             0.9,
             "#4d9221"
            ],
            [
             1,
             "#276419"
            ]
           ],
           "sequential": [
            [
             0,
             "#0d0887"
            ],
            [
             0.1111111111111111,
             "#46039f"
            ],
            [
             0.2222222222222222,
             "#7201a8"
            ],
            [
             0.3333333333333333,
             "#9c179e"
            ],
            [
             0.4444444444444444,
             "#bd3786"
            ],
            [
             0.5555555555555556,
             "#d8576b"
            ],
            [
             0.6666666666666666,
             "#ed7953"
            ],
            [
             0.7777777777777778,
             "#fb9f3a"
            ],
            [
             0.8888888888888888,
             "#fdca26"
            ],
            [
             1,
             "#f0f921"
            ]
           ],
           "sequentialminus": [
            [
             0,
             "#0d0887"
            ],
            [
             0.1111111111111111,
             "#46039f"
            ],
            [
             0.2222222222222222,
             "#7201a8"
            ],
            [
             0.3333333333333333,
             "#9c179e"
            ],
            [
             0.4444444444444444,
             "#bd3786"
            ],
            [
             0.5555555555555556,
             "#d8576b"
            ],
            [
             0.6666666666666666,
             "#ed7953"
            ],
            [
             0.7777777777777778,
             "#fb9f3a"
            ],
            [
             0.8888888888888888,
             "#fdca26"
            ],
            [
             1,
             "#f0f921"
            ]
           ]
          },
          "colorway": [
           "#636efa",
           "#EF553B",
           "#00cc96",
           "#ab63fa",
           "#FFA15A",
           "#19d3f3",
           "#FF6692",
           "#B6E880",
           "#FF97FF",
           "#FECB52"
          ],
          "font": {
           "color": "#2a3f5f"
          },
          "geo": {
           "bgcolor": "white",
           "lakecolor": "white",
           "landcolor": "#E5ECF6",
           "showlakes": true,
           "showland": true,
           "subunitcolor": "white"
          },
          "hoverlabel": {
           "align": "left"
          },
          "hovermode": "closest",
          "mapbox": {
           "style": "light"
          },
          "paper_bgcolor": "white",
          "plot_bgcolor": "#E5ECF6",
          "polar": {
           "angularaxis": {
            "gridcolor": "white",
            "linecolor": "white",
            "ticks": ""
           },
           "bgcolor": "#E5ECF6",
           "radialaxis": {
            "gridcolor": "white",
            "linecolor": "white",
            "ticks": ""
           }
          },
          "scene": {
           "xaxis": {
            "backgroundcolor": "#E5ECF6",
            "gridcolor": "white",
            "gridwidth": 2,
            "linecolor": "white",
            "showbackground": true,
            "ticks": "",
            "zerolinecolor": "white"
           },
           "yaxis": {
            "backgroundcolor": "#E5ECF6",
            "gridcolor": "white",
            "gridwidth": 2,
            "linecolor": "white",
            "showbackground": true,
            "ticks": "",
            "zerolinecolor": "white"
           },
           "zaxis": {
            "backgroundcolor": "#E5ECF6",
            "gridcolor": "white",
            "gridwidth": 2,
            "linecolor": "white",
            "showbackground": true,
            "ticks": "",
            "zerolinecolor": "white"
           }
          },
          "shapedefaults": {
           "line": {
            "color": "#2a3f5f"
           }
          },
          "ternary": {
           "aaxis": {
            "gridcolor": "white",
            "linecolor": "white",
            "ticks": ""
           },
           "baxis": {
            "gridcolor": "white",
            "linecolor": "white",
            "ticks": ""
           },
           "bgcolor": "#E5ECF6",
           "caxis": {
            "gridcolor": "white",
            "linecolor": "white",
            "ticks": ""
           }
          },
          "title": {
           "x": 0.05
          },
          "xaxis": {
           "automargin": true,
           "gridcolor": "white",
           "linecolor": "white",
           "ticks": "",
           "title": {
            "standoff": 15
           },
           "zerolinecolor": "white",
           "zerolinewidth": 2
          },
          "yaxis": {
           "automargin": true,
           "gridcolor": "white",
           "linecolor": "white",
           "ticks": "",
           "title": {
            "standoff": 15
           },
           "zerolinecolor": "white",
           "zerolinewidth": 2
          }
         }
        },
        "width": 800,
        "xaxis": {
         "range": [
          -5.563640357913556,
          5.058622686057646
         ],
         "title": {
          "text": "PC1"
         },
         "type": "linear"
        },
        "yaxis": {
         "range": [
          -4.076704975684152,
          4.781981442494725
         ],
         "title": {
          "text": "PC2"
         },
         "type": "linear"
        }
       }
      },
      "image/png": "[encoded data removed]",
      "text/html": [
       "<div>                            <div id=\"9d877338-6a05-4a35-99c2-67d30d7d2e80\" class=\"plotly-graph-div\" style=\"height:600px; width:800px;\"></div>            <script type=\"text/javascript\">                require([\"plotly\"], function(Plotly) {                    window.PLOTLYENV=window.PLOTLYENV || {};                                    if (document.getElementById(\"9d877338-6a05-4a35-99c2-67d30d7d2e80\")) {                    Plotly.newPlot(                        \"9d877338-6a05-4a35-99c2-67d30d7d2e80\",                        [{\"marker\":{\"color\":[\"red\",\"red\",\"red\",\"red\",\"red\",\"red\",\"blue\",\"blue\",\"blue\",\"blue\",\"blue\"],\"opacity\":0.8,\"size\":6},\"mode\":\"markers\",\"x\":[3.6181470030206526,4.808622686057646,2.456190607973838,4.094386632005211,1.951606613653695,2.4176902042797224,-4.276062680124767,-5.313640357913556,-4.207389207243409,-2.7867432548362956,-2.762806613777414],\"y\":[-0.3887169481980095,4.531981442494725,-3.2853933498327024,2.6023158349184996,-1.3854688572289433,-3.8267049756841516,0.0725500812677069,0.7909606189258511,2.8197896638876045,-1.0602771720623423,-0.8710390474687983],\"type\":\"scatter\"}],                        {\"height\":600,\"width\":800,\"xaxis\":{\"range\":[-5.563640357913556,5.058622686057646],\"title\":{\"text\":\"PC1\"}},\"yaxis\":{\"range\":[-4.076704975684152,4.781981442494725],\"title\":{\"text\":\"PC2\"}},\"template\":{\"data\":{\"histogram2dcontour\":[{\"type\":\"histogram2dcontour\",\"colorbar\":{\"outlinewidth\":0,\"ticks\":\"\"},\"colorscale\":[[0.0,\"#0d0887\"],[0.1111111111111111,\"#46039f\"],[0.2222222222222222,\"#7201a8\"],[0.3333333333333333,\"#9c179e\"],[0.4444444444444444,\"#bd3786\"],[0.5555555555555556,\"#d8576b\"],[0.6666666666666666,\"#ed7953\"],[0.7777777777777778,\"#fb9f3a\"],[0.8888888888888888,\"#fdca26\"],[1.0,\"#f0f921\"]]}],\"choropleth\":[{\"type\":\"choropleth\",\"colorbar\":{\"outlinewidth\":0,\"ticks\":\"\"}}],\"histogram2d\":[{\"type\":\"histogram2d\",\"colorbar\":{\"outlinewidth\":0,\"ticks\":\"\"},\"colorscale\":[[0.0,\"#0d0887\"],[0.1111111111111111,\"#46039f\"],[0.2222222222222222,\"#7201a8\"],[0.3333333333333333,\"#9c179e\"],[0.4444444444444444,\"#bd3786\"],[0.5555555555555556,\"#d8576b\"],[0.6666666666666666,\"#ed7953\"],[0.7777777777777778,\"#fb9f3a\"],[0.8888888888888888,\"#fdca26\"],[1.0,\"#f0f921\"]]}],\"heatmap\":[{\"type\":\"heatmap\",\"colorbar\":{\"outlinewidth\":0,\"ticks\":\"\"},\"colorscale\":[[0.0,\"#0d0887\"],[0.1111111111111111,\"#46039f\"],[0.2222222222222222,\"#7201a8\"],[0.3333333333333333,\"#9c179e\"],[0.4444444444444444,\"#bd3786\"],[0.5555555555555556,\"#d8576b\"],[0.6666666666666666,\"#ed7953\"],[0.7777777777777778,\"#fb9f3a\"],[0.8888888888888888,\"#fdca26\"],[1.0,\"#f0f921\"]]}],\"heatmapgl\":[{\"type\":\"heatmapgl\",\"colorbar\":{\"outlinewidth\":0,\"ticks\":\"\"},\"colorscale\":[[0.0,\"#0d0887\"],[0.1111111111111111,\"#46039f\"],[0.2222222222222222,\"#7201a8\"],[0.3333333333333333,\"#9c179e\"],[0.4444444444444444,\"#bd3786\"],[0.5555555555555556,\"#d8576b\"],[0.6666666666666666,\"#ed7953\"],[0.7777777777777778,\"#fb9f3a\"],[0.8888888888888888,\"#fdca26\"],[1.0,\"#f0f921\"]]}],\"contourcarpet\":[{\"type\":\"contourcarpet\",\"colorbar\":{\"outlinewidth\":0,\"ticks\":\"\"}}],\"contour\":[{\"type\":\"contour\",\"colorbar\":{\"outlinewidth\":0,\"ticks\":\"\"},\"colorscale\":[[0.0,\"#0d0887\"],[0.1111111111111111,\"#46039f\"],[0.2222222222222222,\"#7201a8\"],[0.3333333333333333,\"#9c179e\"],[0.4444444444444444,\"#bd3786\"],[0.5555555555555556,\"#d8576b\"],[0.6666666666666666,\"#ed7953\"],[0.7777777777777778,\"#fb9f3a\"],[0.8888888888888888,\"#fdca26\"],[1.0,\"#f0f921\"]]}],\"surface\":[{\"type\":\"surface\",\"colorbar\":{\"outlinewidth\":0,\"ticks\":\"\"},\"colorscale\":[[0.0,\"#0d0887\"],[0.1111111111111111,\"#46039f\"],[0.2222222222222222,\"#7201a8\"],[0.3333333333333333,\"#9c179e\"],[0.4444444444444444,\"#bd3786\"],[0.5555555555555556,\"#d8576b\"],[0.6666666666666666,\"#ed7953\"],[0.7777777777777778,\"#fb9f3a\"],[0.8888888888888888,\"#fdca26\"],[1.0,\"#f0f921\"]]}],\"mesh3d\":[{\"type\":\"mesh3d\",\"colorbar\":{\"outlinewidth\":0,\"ticks\":\"\"}}],\"scatter\":[{\"fillpattern\":{\"fillmode\":\"overlay\",\"size\":10,\"solidity\":0.2},\"type\":\"scatter\"}],\"parcoords\":[{\"type\":\"parcoords\",\"line\":{\"colorbar\":{\"outlinewidth\":0,\"ticks\":\"\"}}}],\"scatterpolargl\":[{\"type\":\"scatterpolargl\",\"marker\":{\"colorbar\":{\"outlinewidth\":0,\"ticks\":\"\"}}}],\"bar\":[{\"error_x\":{\"color\":\"#2a3f5f\"},\"error_y\":{\"color\":\"#2a3f5f\"},\"marker\":{\"line\":{\"color\":\"#E5ECF6\",\"width\":0.5},\"pattern\":{\"fillmode\":\"overlay\",\"size\":10,\"solidity\":0.2}},\"type\":\"bar\"}],\"scattergeo\":[{\"type\":\"scattergeo\",\"marker\":{\"colorbar\":{\"outlinewidth\":0,\"ticks\":\"\"}}}],\"scatterpolar\":[{\"type\":\"scatterpolar\",\"marker\":{\"colorbar\":{\"outlinewidth\":0,\"ticks\":\"\"}}}],\"histogram\":[{\"marker\":{\"pattern\":{\"fillmode\":\"overlay\",\"size\":10,\"solidity\":0.2}},\"type\":\"histogram\"}],\"scattergl\":[{\"type\":\"scattergl\",\"marker\":{\"colorbar\":{\"outlinewidth\":0,\"ticks\":\"\"}}}],\"scatter3d\":[{\"type\":\"scatter3d\",\"line\":{\"colorbar\":{\"outlinewidth\":0,\"ticks\":\"\"}},\"marker\":{\"colorbar\":{\"outlinewidth\":0,\"ticks\":\"\"}}}],\"scattermapbox\":[{\"type\":\"scattermapbox\",\"marker\":{\"colorbar\":{\"outlinewidth\":0,\"ticks\":\"\"}}}],\"scatterternary\":[{\"type\":\"scatterternary\",\"marker\":{\"colorbar\":{\"outlinewidth\":0,\"ticks\":\"\"}}}],\"scattercarpet\":[{\"type\":\"scattercarpet\",\"marker\":{\"colorbar\":{\"outlinewidth\":0,\"ticks\":\"\"}}}],\"carpet\":[{\"aaxis\":{\"endlinecolor\":\"#2a3f5f\",\"gridcolor\":\"white\",\"linecolor\":\"white\",\"minorgridcolor\":\"white\",\"startlinecolor\":\"#2a3f5f\"},\"baxis\":{\"endlinecolor\":\"#2a3f5f\",\"gridcolor\":\"white\",\"linecolor\":\"white\",\"minorgridcolor\":\"white\",\"startlinecolor\":\"#2a3f5f\"},\"type\":\"carpet\"}],\"table\":[{\"cells\":{\"fill\":{\"color\":\"#EBF0F8\"},\"line\":{\"color\":\"white\"}},\"header\":{\"fill\":{\"color\":\"#C8D4E3\"},\"line\":{\"color\":\"white\"}},\"type\":\"table\"}],\"barpolar\":[{\"marker\":{\"line\":{\"color\":\"#E5ECF6\",\"width\":0.5},\"pattern\":{\"fillmode\":\"overlay\",\"size\":10,\"solidity\":0.2}},\"type\":\"barpolar\"}],\"pie\":[{\"automargin\":true,\"type\":\"pie\"}]},\"layout\":{\"autotypenumbers\":\"strict\",\"colorway\":[\"#636efa\",\"#EF553B\",\"#00cc96\",\"#ab63fa\",\"#FFA15A\",\"#19d3f3\",\"#FF6692\",\"#B6E880\",\"#FF97FF\",\"#FECB52\"],\"font\":{\"color\":\"#2a3f5f\"},\"hovermode\":\"closest\",\"hoverlabel\":{\"align\":\"left\"},\"paper_bgcolor\":\"white\",\"plot_bgcolor\":\"#E5ECF6\",\"polar\":{\"bgcolor\":\"#E5ECF6\",\"angularaxis\":{\"gridcolor\":\"white\",\"linecolor\":\"white\",\"ticks\":\"\"},\"radialaxis\":{\"gridcolor\":\"white\",\"linecolor\":\"white\",\"ticks\":\"\"}},\"ternary\":{\"bgcolor\":\"#E5ECF6\",\"aaxis\":{\"gridcolor\":\"white\",\"linecolor\":\"white\",\"ticks\":\"\"},\"baxis\":{\"gridcolor\":\"white\",\"linecolor\":\"white\",\"ticks\":\"\"},\"caxis\":{\"gridcolor\":\"white\",\"linecolor\":\"white\",\"ticks\":\"\"}},\"coloraxis\":{\"colorbar\":{\"outlinewidth\":0,\"ticks\":\"\"}},\"colorscale\":{\"sequential\":[[0.0,\"#0d0887\"],[0.1111111111111111,\"#46039f\"],[0.2222222222222222,\"#7201a8\"],[0.3333333333333333,\"#9c179e\"],[0.4444444444444444,\"#bd3786\"],[0.5555555555555556,\"#d8576b\"],[0.6666666666666666,\"#ed7953\"],[0.7777777777777778,\"#fb9f3a\"],[0.8888888888888888,\"#fdca26\"],[1.0,\"#f0f921\"]],\"sequentialminus\":[[0.0,\"#0d0887\"],[0.1111111111111111,\"#46039f\"],[0.2222222222222222,\"#7201a8\"],[0.3333333333333333,\"#9c179e\"],[0.4444444444444444,\"#bd3786\"],[0.5555555555555556,\"#d8576b\"],[0.6666666666666666,\"#ed7953\"],[0.7777777777777778,\"#fb9f3a\"],[0.8888888888888888,\"#fdca26\"],[1.0,\"#f0f921\"]],\"diverging\":[[0,\"#8e0152\"],[0.1,\"#c51b7d\"],[0.2,\"#de77ae\"],[0.3,\"#f1b6da\"],[0.4,\"#fde0ef\"],[0.5,\"#f7f7f7\"],[0.6,\"#e6f5d0\"],[0.7,\"#b8e186\"],[0.8,\"#7fbc41\"],[0.9,\"#4d9221\"],[1,\"#276419\"]]},\"xaxis\":{\"gridcolor\":\"white\",\"linecolor\":\"white\",\"ticks\":\"\",\"title\":{\"standoff\":15},\"zerolinecolor\":\"white\",\"automargin\":true,\"zerolinewidth\":2},\"yaxis\":{\"gridcolor\":\"white\",\"linecolor\":\"white\",\"ticks\":\"\",\"title\":{\"standoff\":15},\"zerolinecolor\":\"white\",\"automargin\":true,\"zerolinewidth\":2},\"scene\":{\"xaxis\":{\"backgroundcolor\":\"#E5ECF6\",\"gridcolor\":\"white\",\"linecolor\":\"white\",\"showbackground\":true,\"ticks\":\"\",\"zerolinecolor\":\"white\",\"gridwidth\":2},\"yaxis\":{\"backgroundcolor\":\"#E5ECF6\",\"gridcolor\":\"white\",\"linecolor\":\"white\",\"showbackground\":true,\"ticks\":\"\",\"zerolinecolor\":\"white\",\"gridwidth\":2},\"zaxis\":{\"backgroundcolor\":\"#E5ECF6\",\"gridcolor\":\"white\",\"linecolor\":\"white\",\"showbackground\":true,\"ticks\":\"\",\"zerolinecolor\":\"white\",\"gridwidth\":2}},\"shapedefaults\":{\"line\":{\"color\":\"#2a3f5f\"}},\"annotationdefaults\":{\"arrowcolor\":\"#2a3f5f\",\"arrowhead\":0,\"arrowwidth\":1},\"geo\":{\"bgcolor\":\"white\",\"landcolor\":\"#E5ECF6\",\"subunitcolor\":\"white\",\"showland\":true,\"showlakes\":true,\"lakecolor\":\"white\"},\"title\":{\"x\":0.05},\"mapbox\":{\"style\":\"light\"}}}},                        {\"responsive\": true}                    ).then(function(){\n",
       "                            \n",
       "var gd = document.getElementById('9d877338-6a05-4a35-99c2-67d30d7d2e80');\n",
       "var x = new MutationObserver(function (mutations, observer) {{\n",
       "        var display = window.getComputedStyle(gd).display;\n",
       "        if (!display || display === 'none') {{\n",
       "            console.log([gd, 'removed!']);\n",
       "            Plotly.purge(gd);\n",
       "            observer.disconnect();\n",
       "        }}\n",
       "}});\n",
       "\n",
       "// Listen for the removal of the full notebook cells\n",
       "var notebookContainer = gd.closest('#notebook-container');\n",
       "if (notebookContainer) {{\n",
       "    x.observe(notebookContainer, {childList: true});\n",
       "}}\n",
       "\n",
       "// Listen for the clearing of the current output cell\n",
       "var outputEl = gd.closest('.output');\n",
       "if (outputEl) {{\n",
       "    x.observe(outputEl, {childList: true});\n",
       "}}\n",
       "\n",
       "                        })                };                });            </script>        </div>"
      ]
     },
     "metadata": {},
     "output_type": "display_data"
    }
   ],
   "source": [
    "# Create a scatter plot for the first two or three principal components\n",
    "x_split = 6  # Number of points to color differently\n",
    "colors = ['red' if i < x_split else 'blue' for i in range(len(prin_comp[0]))]\n",
    "\n",
    "# Add a small border to avoid dots on the edge\n",
    "border = 0.25\n",
    "\n",
    "# Uncomment the following lines to enable 3D plotting\n",
    "# scatter = go.Scatter3d(\n",
    "#     x=prin_comp[0],\n",
    "#     y=prin_comp[1],\n",
    "#     z=prin_comp[2],\n",
    "#     mode='markers',\n",
    "#     marker=dict(\n",
    "#         size=6,\n",
    "#         color=colors,  # Dynamic coloring based on the index\n",
    "#         opacity=0.8\n",
    "#     )\n",
    "# )\n",
    "# fig = go.Figure(data=[scatter], layout=go.Layout(\n",
    "#     scene=dict(\n",
    "#         xaxis=dict(title='PC1', range=[np.min(prin_comp[0]) - border, np.max(prin_comp[0]) + border]),\n",
    "#         yaxis=dict(title='PC2', range=[np.min(prin_comp[1]) - border, np.max(prin_comp[1]) + border]),\n",
    "#         zaxis=dict(title='PC3', range=[np.min(prin_comp[2]) - border, np.max(prin_comp[2]) + border])\n",
    "#     ),\n",
    "#     width=800,\n",
    "#     height=600\n",
    "# ))\n",
    "\n",
    "# By default, create a 2D scatter plot\n",
    "scatter = go.Scatter(\n",
    "    x=prin_comp[0],\n",
    "    y=prin_comp[1],\n",
    "    mode='markers',\n",
    "    marker=dict(\n",
    "        size=6,\n",
    "        color=colors,  # Dynamic coloring based on the index\n",
    "        opacity=0.8\n",
    "    )\n",
    ")\n",
    "\n",
    "fig = go.Figure(data=[scatter], layout=go.Layout(\n",
    "    xaxis=dict(title='PC1', range=[np.min(prin_comp[0]) - border, np.max(prin_comp[0]) + border]),\n",
    "    yaxis=dict(title='PC2', range=[np.min(prin_comp[1]) - border, np.max(prin_comp[1]) + border]),\n",
    "    width=800,\n",
    "    height=600\n",
    "))\n",
    "\n",
    "# Show plot\n",
    "fig.show()\n"
   ]
  },
  {
   "cell_type": "code",
   "execution_count": null,
   "id": "28c2da0e-cfab-46a0-887b-e3133573c46f",
   "metadata": {},
   "outputs": [],
   "source": []
  }
 ],
 "metadata": {
  "kernelspec": {
   "display_name": "Python 3 (ipykernel)",
   "language": "python",
   "name": "python3"
  },
  "language_info": {
   "codemirror_mode": {
    "name": "ipython",
    "version": 3
   },
   "file_extension": ".py",
   "mimetype": "text/x-python",
   "name": "python",
   "nbconvert_exporter": "python",
   "pygments_lexer": "ipython3",
   "version": "3.12.2"
  }
 },
 "nbformat": 4,
 "nbformat_minor": 5
}
