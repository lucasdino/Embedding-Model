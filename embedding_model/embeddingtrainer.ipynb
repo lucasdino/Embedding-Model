{
 "cells": [
  {
   "cell_type": "markdown",
   "id": "0948d168-bc6d-49f0-a0a8-46ffef674a9c",
   "metadata": {},
   "source": [
    "# Embedding Trainer\n",
    "---\n",
    "Main script to train our various embedding models. What we'll do is import our 'Embedding Model' objects that we'll define in other files - and this code will be the training loop and will save the results to various folders."
   ]
  },
  {
   "cell_type": "markdown",
   "id": "65ff5d43-dfc7-4007-9d54-8527bbf69b22",
   "metadata": {},
   "source": [
    "## Create our Dataloader and Tokenizer\n",
    "---\n",
    "We already defined these and trained the tokenizer in the other files. So, let's go ahead and instantiate these as a first step"
   ]
  },
  {
   "cell_type": "markdown",
   "id": "cc84fc05-e0dc-4820-b6d5-7593b3569bda",
   "metadata": {},
   "source": [
    "### Import Dependencies"
   ]
  },
  {
   "cell_type": "code",
   "execution_count": 7,
   "id": "2ce4ce0c-327e-4491-a5d2-97dae3584ddd",
   "metadata": {},
   "outputs": [],
   "source": [
    "# First - need to import sys and os and nav to our project_root\n",
    "import sys\n",
    "import os\n",
    "import datetime\n",
    "\n",
    "project_root = os.path.dirname(os.getcwd())\n",
    "sys.path.append(project_root)\n",
    "\n",
    "# Now import our dependencies\n",
    "import torch\n",
    "import torch.nn as nn\n",
    "from torch.nn import functional as F\n",
    "import torch.optim as optim\n",
    "import numpy as np\n",
    "import pandas as pd\n",
    "from dataloader.dataloader import MyDataLoader\n",
    "from tokenizer.tokenizer import MyTokenizer"
   ]
  },
  {
   "cell_type": "code",
   "execution_count": 8,
   "id": "f49e9ebe-1710-4b4b-9828-c79e96dd34c8",
   "metadata": {},
   "outputs": [
    {
     "name": "stdout",
     "output_type": "stream",
     "text": [
      "Using device: cuda\n"
     ]
    }
   ],
   "source": [
    "device = torch.device(\"cuda\" if torch.cuda.is_available() else \"cpu\")\n",
    "print(f\"Using device: {device}\")"
   ]
  },
  {
   "cell_type": "markdown",
   "id": "3c18bf2d-67c0-4610-bee2-c956cb56b126",
   "metadata": {},
   "source": [
    "### Instantiate our Dataloader"
   ]
  },
  {
   "cell_type": "code",
   "execution_count": 9,
   "id": "3b78d90c-3957-4114-90e7-8bf6a60c19c4",
   "metadata": {
    "scrolled": true
   },
   "outputs": [
    {
     "name": "stdout",
     "output_type": "stream",
     "text": [
      "Train Data:\n",
      "Number of chars: 15234\n",
      "============================================================\n",
      "<h2>APPENDIX A COMMON ABBREVIATIONS</h2>\n",
      "\n",
      "<h2>APPENDIX B TABLE OF NAMES</h2>\n",
      "<h3> U.S. OFFICIALS </h\n",
      "\n",
      "\n",
      "Test Data:\n",
      "Number of chars: 2376\n",
      "============================================================\n",
      "know now for ourselves,” and, like the Queen of Sheba, said \n",
      "“The half was not told.” \n",
      "\n",
      "My dear sist\n"
     ]
    }
   ],
   "source": [
    "dl = MyDataLoader(\n",
    "    promptuser=False, \n",
    "    batch_size=1, \n",
    "    shuffle=True)    \n",
    "# By setting promptuser=False, we just use the 'enwiki_articles_20240320_mini' dataset (50MB)\n",
    "\n",
    "train_dataloader = dl.get_train_dataloader()\n",
    "test_dataloader = dl.get_test_dataloader()\n",
    "\n",
    "for batch in train_dataloader:\n",
    "    sample_data = batch[0][0]\n",
    "    break\n",
    "for batch in test_dataloader:\n",
    "    sample_testdata = batch[0][0]\n",
    "    break\n",
    "\n",
    "\n",
    "print(f\"Train Data:\\nNumber of chars: {len(sample_data)}\\n{'='*60}\")\n",
    "print(sample_data[:100])\n",
    "print(f\"\\n\\nTest Data:\\nNumber of chars: {len(sample_testdata)}\\n{'='*60}\")\n",
    "print(sample_testdata[:100])"
   ]
  },
  {
   "cell_type": "markdown",
   "id": "dd8d56a8-872e-45bc-93e6-cda4428f947a",
   "metadata": {},
   "source": [
    "### Instantiate our Tokenizer"
   ]
  },
  {
   "cell_type": "code",
   "execution_count": 11,
   "id": "9f352301-58ec-4c6a-ba92-101ea383444d",
   "metadata": {},
   "outputs": [
    {
     "name": "stdout",
     "output_type": "stream",
     "text": [
      "[349, 15929, 396, 7254, 15961, 15022, 15946, 0, 57, 4266, 1720, 57, 15958, 15958, 4937, 15997, 1750, 9423, 15949, 313, 15929, 396, 349, 15929, 396, 7254, 15961, 15022, 15946, 0, 122, 62, 15947, 15958, 4137, 4229, 198, 8315, 2188, 313, 15929, 396, 349, 15929, 506, 296, 15944, 15949, 15944, 4229, 15972, 2396, 11782, 15949, 2416, 15929]\n",
      "------------------------------------------------------------\n",
      "['▁<', 'h', '2>', 'AP', 'P', 'END', 'I', 'X', '▁A', '▁COMM', 'ON', '▁A', 'B', 'B', 'RE', 'V', 'IA', 'TION', 'S', '</', 'h', '2>', '▁<', 'h', '2>', 'AP', 'P', 'END', 'I', 'X', '▁B', '▁T', 'A', 'B', 'LE', '▁OF', '▁N', 'AM', 'ES', '</', 'h', '2>', '▁<', 'h', '3>', '▁U', '.', 'S', '.', '▁OF', 'F', 'IC', 'IAL', 'S', '▁</', 'h']\n",
      "------------------------------------------------------------\n",
      "<h2>APPENDI ⁇  A COMMON ABBREVIATIONS</h2> <h2>APPENDI ⁇  B TABLE OF NAMES</h2> <h3> U.S. OFFICIALS </h\n"
     ]
    }
   ],
   "source": [
    "tokenizer = MyTokenizer()\n",
    "tk_vocab_size = tokenizer.get_vocab_size()\n",
    "\n",
    "# Ensure our tokenizer is running properly\n",
    "chars_to_print = 100\n",
    "print(tokenizer.encode_as_ids(sample_data[:chars_to_print]))\n",
    "print(f\"{'-'*60}\")\n",
    "print(tokenizer.encode_as_pieces(sample_data[:chars_to_print]))\n",
    "print(f\"{'-'*60}\")\n",
    "print(tokenizer.decode(tokenizer.encode_as_ids(sample_data[:chars_to_print])))"
   ]
  },
  {
   "cell_type": "markdown",
   "id": "8d0484a7-8dbf-4e9f-a809-4f3936f30949",
   "metadata": {},
   "source": [
    "## Define our Helper Functions"
   ]
  },
  {
   "cell_type": "code",
   "execution_count": 16,
   "id": "94d5caaa-7fa2-4591-a07e-7d469f9c799d",
   "metadata": {},
   "outputs": [
    {
     "name": "stdout",
     "output_type": "stream",
     "text": [
      "Batch 1\n",
      "------------------------------------------------------------\n",
      "tensor([[15941, 14108, 11912,  1817,  1051, 15947, 15943,  2472],\n",
      "        [ 3004,   183, 15962, 15963, 15944, 15992,  2630,  7625],\n",
      "        [ 2068,    88,     6,  9439,   934,  5238, 15921,     0],\n",
      "        [15941,  7054,    43,  8698,   143, 15939,   124,   379],\n",
      "        [  103,   191,    26, 15506,   480, 15931, 15941,   124],\n",
      "        [15947,   709, 15941,   348,   223,   157, 15209, 15921],\n",
      "        [11136,  4085, 15941,  2004, 15941,  2555,  9085,  5816],\n",
      "        [   16,  2355,  2068,  3519,   523,    43,     7, 11127]],\n",
      "       device='cuda:0', dtype=torch.int32)\n",
      "tensor([ 5816, 15970,   134,   227, 15940,  9530, 15398, 15939],\n",
      "       device='cuda:0', dtype=torch.int32)\n"
     ]
    }
   ],
   "source": [
    "def _yield_CBOW_batch(text, n_window, batch_size=8, util_rate=0.5, spec_iter=None, vocab_size=tk_vocab_size, device=device, tokenizer=tokenizer):\n",
    "    \"\"\"\n",
    "        Generator function that takes in text and returns a number of batches for each dataset based on the utilization rate specified. To be used in a CBOW model.\n",
    "\n",
    "        Inputs:\n",
    "            text:       (string) The text provided by the dataloader\n",
    "            n_window:   (int) Size of our context window for the CBOW model. I.e., if n_window=4, then we will use the left 4 words and right 4 words to predict our target word\n",
    "            batch_size: (int) Number of samples to return in each batch\n",
    "            util_rate:  (float) Value from (0, 1] that specifies the % of possible batches that are generated before moving to next sample\n",
    "            spec_iter:  (int) If set to none, we use util rate to determine num batches from this data. If set to an int, we use that number.\n",
    "            vocab_size: (int) size of our tokenizer vocabulary\n",
    "            device:     Pytorch device (e.g., cuda / cpu)\n",
    "            tokenizer:  Our defined tokenizer (above). encode_as_ids(text) returns a 1-D python list of tokens\n",
    "\n",
    "        Yields (generator function) batches of data in the form of GPU-mounted pytorch tensors until util_rate is tripped.\n",
    "    \"\"\"\n",
    "    # Tokenize our data and determine number of batches we'll use\n",
    "    tokens = torch.tensor(tokenizer.encode_as_ids(text), dtype=torch.int, device=device)\n",
    "    len_tokens = len(tokens)\n",
    "    num_possible_pairs = len_tokens - (2 * n_window)\n",
    "    num_batches = int((num_possible_pairs * util_rate) // batch_size) if spec_iter==None else min(spec_iter, int(num_possible_pairs // batch_size))\n",
    "\n",
    "    # Get random permutation of the possible 'center indices' --> these become our targets and surrounding 'n_window' size is our context\n",
    "    center_indices = torch.arange(n_window, len_tokens - n_window, device=device).int()\n",
    "    center_indices = center_indices[torch.randperm(center_indices.size(0))][:num_batches*batch_size]\n",
    "\n",
    "    # Generate # of batches for this dataset\n",
    "    for i in range(num_batches):\n",
    "        batch_center_indices = center_indices[i*batch_size:(i+1)*batch_size]\n",
    "        context_indices_list = []\n",
    "        target_indices_list = []\n",
    "        \n",
    "        for center_idx in batch_center_indices:\n",
    "            # Create a context window around the center word\n",
    "            context_window = tokens[(center_idx - n_window):(center_idx + n_window + 1)]\n",
    "            context_indices = torch.cat((context_window[:n_window], context_window[n_window+1:]))\n",
    "            target_index = tokens[center_idx]\n",
    "            \n",
    "            context_indices_list.append(context_indices)\n",
    "            target_indices_list.append(target_index)\n",
    "        \n",
    "        # Stack lists to create batch tensors\n",
    "        context_tensor = torch.stack(context_indices_list).to(device)\n",
    "        target_tensor = torch.stack(target_indices_list).to(device)\n",
    "        \n",
    "        yield context_tensor, target_tensor\n",
    "\n",
    "for batch, (context, target) in enumerate(_yield_CBOW_batch(sample_data, n_window=4)):\n",
    "    print(f\"Batch {batch+1}\")\n",
    "    print(f\"{'-'*60}\")\n",
    "    print(context)\n",
    "    print(target)\n",
    "    break"
   ]
  },
  {
   "cell_type": "code",
   "execution_count": 44,
   "id": "8baec6a3-9c0b-4b6f-852d-e6c91d9b1089",
   "metadata": {},
   "outputs": [],
   "source": [
    "# Next - let's keep track of our loss data\n",
    "def _estimate_loss(model, n_window, batching_fn, train_dl, test_dl, n_samples=10, iters_per_sample=10, device=device):\n",
    "    \"\"\"\n",
    "        Function to estimate our loss (train and test) that we can call\n",
    "\n",
    "        Inputs:\n",
    "            model:             Pytorch sequential model\n",
    "            n_window:          (int) Specify size of window to test over (for our CBOW / Skipgram models)\n",
    "            batching_fn:       Function that returns our data as (context, targets)\n",
    "            train_dl:          Pytorch dataloader for train data\n",
    "            test_dl:           Pytorch dataloader for test data\n",
    "            n_samples:         (int) Specify number of iterations to compute loss over\n",
    "            iters_per_sample:  (int) Specify number of iterations per sample to compute loss over\n",
    "            device:            Pytorch device (cuda / cpu)\n",
    "\n",
    "        Returns the mean train loss and the test loss over n_iters samples\n",
    "    \"\"\"\n",
    "    train_loss = torch.zeros(n_samples*iters_per_sample, device=device)\n",
    "    test_loss = torch.zeros(n_samples*iters_per_sample, device=device)\n",
    "\n",
    "    model.eval()\n",
    "    with torch.no_grad():\n",
    "        for i, sample in enumerate(train_dl):\n",
    "            for (context, targets) in batching_fn(sample[0][0], n_window, spec_iter=iters_per_sample):\n",
    "                loss = model(context, targets)\n",
    "                train_loss[i-1] += loss\n",
    "            if i == n_samples:\n",
    "                break\n",
    "        for i, sample in enumerate(test_dl):\n",
    "            for (context, targets) in batching_fn(sample[0][0], n_window, spec_iter=iters_per_sample):\n",
    "                loss = model(context, targets)\n",
    "                test_loss[i-1] += loss\n",
    "            if i == n_samples:\n",
    "                break\n",
    "\n",
    "    model.train()\n",
    "    return train_loss.mean(), test_loss.mean()"
   ]
  },
  {
   "cell_type": "markdown",
   "id": "0d3b79f7-2cce-4228-957d-5e02fd728ced",
   "metadata": {},
   "source": [
    "## Import and Train our Model"
   ]
  },
  {
   "cell_type": "code",
   "execution_count": 45,
   "id": "497fba5e-bae1-4cf3-acdc-ce5968c3143e",
   "metadata": {},
   "outputs": [],
   "source": [
    "# Continuous Bag of Words model for training embeddings as specified in Word2Vec (https://arxiv.org/pdf/1301.3781.pdf)\n",
    "class CBOW_NegativeSampling(nn.Module):\n",
    "    def __init__(self, embed_dim, effic_strat=None, vocab_size=tk_vocab_size, device=device):\n",
    "        \"\"\"\n",
    "        Inputs:\n",
    "            embed_dim:   (int) number of dimensions for our embeddings\n",
    "            effic_strat: (str) either 'neg-sample' or 'hier-softmax' - used to define which strategy for efficient computation to use\n",
    "            vocab_size:  (int) the size of the vocabulary\n",
    "            device:      Pytorch device (cuda / cpu)\n",
    "        \"\"\"\n",
    "        super().__init__()\n",
    "        self.device = device\n",
    "        self.embed_dim = embed_dim\n",
    "        self.vocab_size = vocab_size\n",
    "        self.embeddings = nn.Embedding(vocab_size, embed_dim).to(device)\n",
    "        self.initialize_embeddings()\n",
    "\n",
    "    def initialize_embeddings(self):\n",
    "        \"\"\" Initializes the embedding weights to a normal distribution with mean 0 and a specified variance \"\"\"\n",
    "        nn.init.normal_(self.embeddings.weight, mean=0.0, std=1)\n",
    "\n",
    "    def forward(self, context_indices, positive_indices, num_negative_samples=5):\n",
    "        \"\"\"\n",
    "            Performs a forward pass with negative sampling.\n",
    "            \n",
    "            Parameters:\n",
    "            - context_indices: Indices of the context words [B, Context_size].\n",
    "            - positive_indices: Indices of the target (positive) words [B, 1].\n",
    "            - num_negative_samples: Number of negative samples per positive sample.\n",
    "        \"\"\"\n",
    "        batch_size = context_indices.size(0)\n",
    "        context_embeds = self.embeddings(context_indices).mean(dim=1, keepdims=True)  # [B, context_size, embed_dim] --> [B x 1 x embed_dim]\n",
    "    \n",
    "        # Embedding lookup for positive samples\n",
    "        positive_embeds = self.embeddings(positive_indices).unsqueeze(-1)  # [B, embed_dim, 1]\n",
    "    \n",
    "        # Generating negative samples\n",
    "        # Note: For simplicity, this samples uniformly from the vocabulary.\n",
    "        # Consider using a distribution that matches word frequencies for better performance.\n",
    "        negative_indices = torch.randint(0, self.vocab_size, (batch_size, num_negative_samples), device=self.device)\n",
    "        negative_embeds = self.embeddings(negative_indices).transpose(1,2)  # [B, embed_dim, num_negative_samples]\n",
    "    \n",
    "        # Compute logits\n",
    "        positive_logits = torch.bmm(context_embeds, positive_embeds).squeeze()      # [B x 1 x embed_dim] @ [B, embed_dim, 1] -> [B, 1, 1] -> [B]\n",
    "        negative_logits = torch.bmm(context_embeds, negative_embeds).squeeze()      # [B, num_negative_samples]\n",
    "    \n",
    "        # Labels: 1s for positive, 0s for negative\n",
    "        positive_labels = torch.ones_like(positive_logits)\n",
    "        negative_labels = torch.zeros_like(negative_logits)\n",
    "    \n",
    "        # Loss: binary cross-entropy with logits\n",
    "        positive_loss = F.binary_cross_entropy_with_logits(positive_logits, positive_labels)\n",
    "        negative_loss = F.binary_cross_entropy_with_logits(negative_logits, negative_labels)\n",
    "        loss = positive_loss + negative_loss.mean()\n",
    "        return loss\n",
    "\n",
    "    def find_closest_embeddings(self, input_embedding, n=5):\n",
    "        \"\"\"\n",
    "            Find the n embeddings in the model that have the largest cosine similarity\n",
    "            to the given input_embedding.\n",
    "    \n",
    "            Inputs:\n",
    "                input_embedding (Tensor): The input embedding vector.\n",
    "                n (int): The number of closest embeddings to return.\n",
    "    \n",
    "            Returns a tensor of indices of the n closest embeddings.\n",
    "        \"\"\"\n",
    "        input_embedding_norm = input_embedding / input_embedding.norm()\n",
    "        all_embeddings = self.embeddings.weight\n",
    "        similarities = F.cosine_similarity(input_embedding_norm.unsqueeze(0), all_embeddings, dim=1)\n",
    "        _, closest_indices = torch.topk(similarities, n)\n",
    "        return closest_indices\n",
    "\n",
    "    def get_embedding(self, index):\n",
    "        \"\"\" Retrieve the vector embedding corresponding to a given index Returns a tensor of the embedding vector \"\"\"\n",
    "        return self.embeddings.weight[index]\n",
    "\n",
    "    def save_weights(self, filename):\n",
    "        \"\"\" Save the model weights to a file \"\"\"\n",
    "        torch.save(self.state_dict(), filename)\n",
    "\n",
    "    def load_weights(self, filename):\n",
    "        \"\"\" Load the model weights from a file. Ex. 'trained_models/mymodel.pth' \"\"\"\n",
    "        self.load_state_dict(torch.load(filename, map_location=self.device))\n",
    "        print(f\"Model weights loaded from {filename}\")"
   ]
  },
  {
   "cell_type": "code",
   "execution_count": 46,
   "id": "e5557ee7-421f-48fa-bca3-cc404503938f",
   "metadata": {},
   "outputs": [],
   "source": [
    "# Define a simple training loop\n",
    "def train_model(embedding_model, train_dl, test_dl, tokenizer, device, embed_dim, learning_rate, epochs, max_iters, print_freq=2000, saveweights=True):\n",
    "    \"\"\"\n",
    "    Main training loop for the model specified in 'embedding_model'.\n",
    "    \n",
    "    Parameters:\n",
    "    - embedding_model: The key to the embedding model configuration.\n",
    "    - train_dl: Training DataLoader.\n",
    "    - test_dl: Testing DataLoader.\n",
    "    - tokenizer: Tokenizer used for encoding text.\n",
    "    - device: The device (cuda/cpu) on which to train the model.\n",
    "    - epochs: Number of epochs to train for.\n",
    "    - saveweights: Whether to save the model weights.\n",
    "    - embed_dim: Dimensionality of the embeddings.\n",
    "    - learning_rate: Learning rate for the optimizer.\n",
    "    \"\"\"\n",
    "    modelclass = emb_model[embedding_model][\"modelclass\"]\n",
    "    n_window = emb_model[embedding_model][\"n_window\"]\n",
    "    batching_fn = emb_model[embedding_model][\"batching_fn\"]\n",
    "    \n",
    "    model = modelclass(embed_dim=embed_dim, device=device)\n",
    "    model.to(device)\n",
    "    print(f\"Using device: {device}\")\n",
    "    print(f\"{(sum(p.numel() for p in model.parameters())/1e6):.3f}M parameters\")\n",
    "    \n",
    "    optimizer = optim.Adam(model.parameters(), lr=learning_rate)\n",
    "    losses = torch.zeros(int(max_iters//print_freq), 3, device=device)\n",
    "    iter = 0\n",
    "    \n",
    "    for _ in range(epochs):\n",
    "        for sample in train_dl:\n",
    "            for (context, targets) in batching_fn(sample[0][0], n_window):\n",
    "                iter += 1\n",
    "                loss = model(context, targets)\n",
    "                optimizer.zero_grad()\n",
    "                loss.backward()\n",
    "                optimizer.step()\n",
    "                \n",
    "                if iter % print_freq == 0:\n",
    "                    train_loss, test_loss = _estimate_loss(model, n_window, batching_fn, train_dl, test_dl, n_samples=5, iters_per_sample=10, device=device)\n",
    "                    print(f\"{iter}/{int(max_iters)}: Train loss = {train_loss:.3f}; Test loss = {test_loss:.3f}\")\n",
    "                    \n",
    "                    print_idx = iter//print_freq - 1\n",
    "                    losses[print_idx] = torch.tensor([iter, train_loss, test_loss], device=device)\n",
    "                \n",
    "                if iter >= max_iters:\n",
    "                    break    \n",
    "            if iter >= max_iters:\n",
    "                break\n",
    "        if iter >= max_iters:\n",
    "            break\n",
    "    \n",
    "    # Ensure directories exist\n",
    "    if not os.path.exists('trained_models'):\n",
    "        os.makedirs('trained_models')\n",
    "    if not os.path.exists('loss_results'):\n",
    "        os.makedirs('loss_results')\n",
    "    \n",
    "    # Save model and losses\n",
    "    datetime_str = datetime.datetime.now().strftime(\"%Y-%m-%d_%H-%M\")\n",
    "    file_prefix = f\"{embedding_model}-{tokenizer.get_vocab_size()//1000}k-{datetime_str}\"\n",
    "    weights_path = os.path.join('trained_models', file_prefix + '.pth')\n",
    "    model.save_weights(weights_path)\n",
    "    print(f\"Model weights saved to {weights_path}\")\n",
    "    \n",
    "    losses_df = pd.DataFrame(losses.cpu().numpy(), columns=['Iteration', 'Train Loss', 'Test Loss'])\n",
    "    csv_path = os.path.join('loss_results', file_prefix + '.csv')\n",
    "    losses_df.to_csv(csv_path, index=False)\n",
    "    print(f\"Loss data saved to {csv_path}\")"
   ]
  },
  {
   "cell_type": "code",
   "execution_count": 47,
   "id": "3b111a58-54b5-4b26-9b94-2c85302c8440",
   "metadata": {
    "scrolled": true
   },
   "outputs": [
    {
     "name": "stdout",
     "output_type": "stream",
     "text": [
      "Using device: cuda\n",
      "2.048M parameters\n",
      "200/200000: Train loss = 3.580; Test loss = 3.860\n",
      "400/200000: Train loss = 3.877; Test loss = 3.754\n",
      "600/200000: Train loss = 3.667; Test loss = 3.875\n",
      "800/200000: Train loss = 3.728; Test loss = 3.733\n",
      "1000/200000: Train loss = 3.620; Test loss = 3.798\n",
      "1200/200000: Train loss = 3.943; Test loss = 3.667\n",
      "1400/200000: Train loss = 3.509; Test loss = 3.511\n",
      "1600/200000: Train loss = 3.578; Test loss = 3.780\n",
      "1800/200000: Train loss = 3.643; Test loss = 3.599\n",
      "2000/200000: Train loss = 3.628; Test loss = 3.653\n",
      "2200/200000: Train loss = 3.589; Test loss = 3.515\n",
      "2400/200000: Train loss = 3.564; Test loss = 3.630\n",
      "2600/200000: Train loss = 3.597; Test loss = 3.663\n",
      "2800/200000: Train loss = 3.419; Test loss = 3.499\n"
     ]
    },
    {
     "ename": "KeyboardInterrupt",
     "evalue": "",
     "output_type": "error",
     "traceback": [
      "\u001b[1;31m---------------------------------------------------------------------------\u001b[0m",
      "\u001b[1;31mKeyboardInterrupt\u001b[0m                         Traceback (most recent call last)",
      "Cell \u001b[1;32mIn[47], line 16\u001b[0m\n\u001b[0;32m     13\u001b[0m epochs \u001b[38;5;241m=\u001b[39m \u001b[38;5;241m50\u001b[39m\n\u001b[0;32m     15\u001b[0m \u001b[38;5;66;03m# Training our model\u001b[39;00m\n\u001b[1;32m---> 16\u001b[0m loss \u001b[38;5;241m=\u001b[39m train_model(embedding_model\u001b[38;5;241m=\u001b[39membedding_model, \n\u001b[0;32m     17\u001b[0m                    train_dl\u001b[38;5;241m=\u001b[39mtrain_dataloader, \n\u001b[0;32m     18\u001b[0m                    test_dl\u001b[38;5;241m=\u001b[39mtest_dataloader, \n\u001b[0;32m     19\u001b[0m                    tokenizer\u001b[38;5;241m=\u001b[39mtokenizer, \n\u001b[0;32m     20\u001b[0m                    device\u001b[38;5;241m=\u001b[39mdevice, \n\u001b[0;32m     21\u001b[0m                    embed_dim\u001b[38;5;241m=\u001b[39membed_dim, \n\u001b[0;32m     22\u001b[0m                    learning_rate\u001b[38;5;241m=\u001b[39mlearning_rate, \n\u001b[0;32m     23\u001b[0m                    epochs\u001b[38;5;241m=\u001b[39mepochs,\n\u001b[0;32m     24\u001b[0m                    max_iters\u001b[38;5;241m=\u001b[39m\u001b[38;5;241m2e5\u001b[39m,\n\u001b[0;32m     25\u001b[0m                    print_freq\u001b[38;5;241m=\u001b[39m\u001b[38;5;241m200\u001b[39m)\n",
      "Cell \u001b[1;32mIn[46], line 40\u001b[0m, in \u001b[0;36mtrain_model\u001b[1;34m(embedding_model, train_dl, test_dl, tokenizer, device, embed_dim, learning_rate, epochs, max_iters, print_freq, saveweights)\u001b[0m\n\u001b[0;32m     37\u001b[0m optimizer\u001b[38;5;241m.\u001b[39mstep()\n\u001b[0;32m     39\u001b[0m \u001b[38;5;28;01mif\u001b[39;00m \u001b[38;5;28miter\u001b[39m \u001b[38;5;241m%\u001b[39m print_freq \u001b[38;5;241m==\u001b[39m \u001b[38;5;241m0\u001b[39m:\n\u001b[1;32m---> 40\u001b[0m     train_loss, test_loss \u001b[38;5;241m=\u001b[39m _estimate_loss(model, n_window, batching_fn, train_dl, test_dl, n_samples\u001b[38;5;241m=\u001b[39m\u001b[38;5;241m5\u001b[39m, iters_per_sample\u001b[38;5;241m=\u001b[39m\u001b[38;5;241m10\u001b[39m, device\u001b[38;5;241m=\u001b[39mdevice)\n\u001b[0;32m     41\u001b[0m     \u001b[38;5;28mprint\u001b[39m(\u001b[38;5;124mf\u001b[39m\u001b[38;5;124m\"\u001b[39m\u001b[38;5;132;01m{\u001b[39;00m\u001b[38;5;28miter\u001b[39m\u001b[38;5;132;01m}\u001b[39;00m\u001b[38;5;124m/\u001b[39m\u001b[38;5;132;01m{\u001b[39;00m\u001b[38;5;28mint\u001b[39m(max_iters)\u001b[38;5;132;01m}\u001b[39;00m\u001b[38;5;124m: Train loss = \u001b[39m\u001b[38;5;132;01m{\u001b[39;00mtrain_loss\u001b[38;5;132;01m:\u001b[39;00m\u001b[38;5;124m.3f\u001b[39m\u001b[38;5;132;01m}\u001b[39;00m\u001b[38;5;124m; Test loss = \u001b[39m\u001b[38;5;132;01m{\u001b[39;00mtest_loss\u001b[38;5;132;01m:\u001b[39;00m\u001b[38;5;124m.3f\u001b[39m\u001b[38;5;132;01m}\u001b[39;00m\u001b[38;5;124m\"\u001b[39m)\n\u001b[0;32m     43\u001b[0m     print_idx \u001b[38;5;241m=\u001b[39m \u001b[38;5;28miter\u001b[39m\u001b[38;5;241m/\u001b[39m\u001b[38;5;241m/\u001b[39mprint_freq \u001b[38;5;241m-\u001b[39m \u001b[38;5;241m1\u001b[39m\n",
      "Cell \u001b[1;32mIn[44], line 24\u001b[0m, in \u001b[0;36m_estimate_loss\u001b[1;34m(model, n_window, batching_fn, train_dl, test_dl, n_samples, iters_per_sample, device)\u001b[0m\n\u001b[0;32m     22\u001b[0m \u001b[38;5;28;01mwith\u001b[39;00m torch\u001b[38;5;241m.\u001b[39mno_grad():\n\u001b[0;32m     23\u001b[0m     \u001b[38;5;28;01mfor\u001b[39;00m i, sample \u001b[38;5;129;01min\u001b[39;00m \u001b[38;5;28menumerate\u001b[39m(train_dl):\n\u001b[1;32m---> 24\u001b[0m         \u001b[38;5;28;01mfor\u001b[39;00m (context, targets) \u001b[38;5;129;01min\u001b[39;00m batching_fn(sample[\u001b[38;5;241m0\u001b[39m][\u001b[38;5;241m0\u001b[39m], n_window, spec_iter\u001b[38;5;241m=\u001b[39miters_per_sample):\n\u001b[0;32m     25\u001b[0m             loss \u001b[38;5;241m=\u001b[39m model(context, targets)\n\u001b[0;32m     26\u001b[0m             train_loss[i\u001b[38;5;241m-\u001b[39m\u001b[38;5;241m1\u001b[39m] \u001b[38;5;241m+\u001b[39m\u001b[38;5;241m=\u001b[39m loss\n",
      "Cell \u001b[1;32mIn[16], line 36\u001b[0m, in \u001b[0;36m_yield_CBOW_batch\u001b[1;34m(text, n_window, batch_size, util_rate, spec_iter, vocab_size, device, tokenizer)\u001b[0m\n\u001b[0;32m     33\u001b[0m \u001b[38;5;28;01mfor\u001b[39;00m center_idx \u001b[38;5;129;01min\u001b[39;00m batch_center_indices:\n\u001b[0;32m     34\u001b[0m     \u001b[38;5;66;03m# Create a context window around the center word\u001b[39;00m\n\u001b[0;32m     35\u001b[0m     context_window \u001b[38;5;241m=\u001b[39m tokens[(center_idx \u001b[38;5;241m-\u001b[39m n_window):(center_idx \u001b[38;5;241m+\u001b[39m n_window \u001b[38;5;241m+\u001b[39m \u001b[38;5;241m1\u001b[39m)]\n\u001b[1;32m---> 36\u001b[0m     context_indices \u001b[38;5;241m=\u001b[39m torch\u001b[38;5;241m.\u001b[39mcat((context_window[:n_window], context_window[n_window\u001b[38;5;241m+\u001b[39m\u001b[38;5;241m1\u001b[39m:]))\n\u001b[0;32m     37\u001b[0m     target_index \u001b[38;5;241m=\u001b[39m tokens[center_idx]\n\u001b[0;32m     39\u001b[0m     context_indices_list\u001b[38;5;241m.\u001b[39mappend(context_indices)\n",
      "\u001b[1;31mKeyboardInterrupt\u001b[0m: "
     ]
    }
   ],
   "source": [
    "# Defining our different embedding models\n",
    "emb_model = {\n",
    "    \"CBOW-5-NS\": {\"modelclass\": CBOW_NegativeSampling, \"batching_fn\": _yield_CBOW_batch, \"n_window\": 5},\n",
    "    \"CBOW-5-HS\": {\"modelclass\": TBD, \"batching_fn\": _yield_CBOW_batch, \"n_window\": 5},\n",
    "    \"Ngram-5-NS\": {\"modelclass\": TBD, \"batching_fn\": \"TBD\", \"n_window\": 5},\n",
    "    \"Ngram-5-HS\": {\"modelclass\": TBD, \"batching_fn\": \"TBD\", \"n_window\": 5},\n",
    " }\n",
    "\n",
    "# Training specific hyperparams\n",
    "embedding_model = \"CBOW-5-NS\"\n",
    "learning_rate = 3e-4\n",
    "embed_dim = 128\n",
    "epochs = 50\n",
    "\n",
    "# Training our model\n",
    "loss = train_model(embedding_model=embedding_model, \n",
    "                   train_dl=train_dataloader, \n",
    "                   test_dl=test_dataloader, \n",
    "                   tokenizer=tokenizer, \n",
    "                   device=device, \n",
    "                   embed_dim=embed_dim, \n",
    "                   learning_rate=learning_rate, \n",
    "                   epochs=epochs,\n",
    "                   max_iters=2e5,\n",
    "                   print_freq=200)"
   ]
  },
  {
   "cell_type": "markdown",
   "id": "0ea87b09-1c0e-4ef0-ad28-8d2a4c1693c7",
   "metadata": {},
   "source": [
    "## Plotting Loss and Testing our Trained Models\n",
    "---"
   ]
  },
  {
   "cell_type": "code",
   "execution_count": 48,
   "id": "06c73c7a-bb0b-4d13-92fb-d918990de6cc",
   "metadata": {},
   "outputs": [],
   "source": [
    "import matplotlib.pyplot as plt"
   ]
  },
  {
   "cell_type": "code",
   "execution_count": 49,
   "id": "15b5bfa7-b96d-438f-9f0a-139ec545f251",
   "metadata": {},
   "outputs": [],
   "source": [
    "def visualize_loss(filename):\n",
    "    # Load the CSV file\n",
    "    df = pd.read_csv(os.path.join('loss_results', filename))\n",
    "    \n",
    "    # Plotting\n",
    "    plt.figure(figsize=(10, 6))\n",
    "    plt.scatter(df['Iteration'], df['Train Loss'], color='blue', label='Train Loss', s=10)  # Adjusted size here\n",
    "    plt.scatter(df['Iteration'], df['Test Loss'], color='orange', label='Test Loss', s=10)  # And here\n",
    "    plt.title('Training and Test Loss Over Time')\n",
    "    plt.xlabel('Iteration')\n",
    "    plt.ylabel('Loss')\n",
    "    plt.legend()\n",
    "    plt.show()"
   ]
  },
  {
   "cell_type": "code",
   "execution_count": 50,
   "id": "3ac52176-16e7-4608-992c-59489e43c75a",
   "metadata": {},
   "outputs": [
    {
     "data": {
      "image/png": "[encoded data removed]",
      "text/plain": [
       "<Figure size 1000x600 with 1 Axes>"
      ]
     },
     "metadata": {},
     "output_type": "display_data"
    }
   ],
   "source": [
    "visualize_loss(\"CBOW-5-NS-16k-2024-03-29_23-17.csv\")"
   ]
  },
  {
   "cell_type": "code",
   "execution_count": 51,
   "id": "e6ebd76f-ea44-4b6a-b12d-738223eaec48",
   "metadata": {},
   "outputs": [
    {
     "name": "stdout",
     "output_type": "stream",
     "text": [
      "Model weights loaded from trained_models/CBOW-5-NS-16k-2024-03-29_23-17.pth\n"
     ]
    }
   ],
   "source": [
    "# Now - let's see what we can get from the embedding model for various word arithmetic tests\n",
    "embedding_model = \"CBOW-5-NS\"\n",
    "mymodel = CBOW_NegativeSampling(embed_dim=128)\n",
    "mymodel.load_weights(\"trained_models/CBOW-5-NS-16k-2024-03-29_23-17.pth\")"
   ]
  },
  {
   "cell_type": "code",
   "execution_count": 52,
   "id": "b18a0e1f-7d60-400a-bfe4-84ff232020cd",
   "metadata": {},
   "outputs": [
    {
     "name": "stdout",
     "output_type": "stream",
     "text": [
      "Closest tokens for: teeth\n",
      "Token: [6825] - ['▁teeth']\n",
      "------------------------------------------------------------\n",
      "Id: 0 - S\n",
      "Id: 1 - ir\n",
      "Id: 2 - as\n",
      "Id: 3 - The\n",
      "Id: 4 - su\n"
     ]
    }
   ],
   "source": [
    "def print_closest_ids(string):\n",
    "    tok = tokenizer.encode_as_ids(string)\n",
    "    tok_text = tokenizer.encode_as_pieces(string)\n",
    "    if len(tok)>1:\n",
    "        print(\"Try new token - token length > 1\")\n",
    "        return\n",
    "\n",
    "    token_embedding = mymodel.get_embedding(tok)\n",
    "    closest_ids = mymodel.find_closest_embeddings(token_embedding, n=5)\n",
    "    closest_ids = (closest_ids.to('cpu')).flatten().tolist()\n",
    "    print(f\"Closest tokens for: {string}\\nToken: {tok} - {tok_text}\\n{'-'*60}\")\n",
    "    for i, id in enumerate(closest_ids):\n",
    "        print(f\"Id: {i} - {tokenizer.decode(id)}\")\n",
    "\n",
    "# Testing\n",
    "test_word = \"teeth\"\n",
    "print_closest_ids(test_word)"
   ]
  },
  {
   "cell_type": "code",
   "execution_count": 53,
   "id": "1e5562be-4e97-483f-b139-7212a80beba6",
   "metadata": {},
   "outputs": [
    {
     "name": "stdout",
     "output_type": "stream",
     "text": [
      "Closest tokens for: 'hands' - 'hand' + 'leg'\n",
      "------------------------------------------------------------\n",
      "Id: 0 - su\n",
      "Id: 1 - ter\n",
      "Id: 2 - ou\n",
      "Id: 3 - ch\n",
      "Id: 4 - od\n"
     ]
    }
   ],
   "source": [
    "# Defining a - b + c = ?\n",
    "def closest_five_arith(a, b, c):\n",
    "    \n",
    "    tok_a = tokenizer.encode_as_ids(a)\n",
    "    tok_b = tokenizer.encode_as_ids(b)\n",
    "    tok_c = tokenizer.encode_as_ids(c)\n",
    "    \n",
    "    if (len(tok_a) + len(tok_b) + len(tok_c)) > 3:\n",
    "        print(\"Words not single tokens\")\n",
    "        return\n",
    "    \n",
    "    emb_a = mymodel.get_embedding(tok_a)\n",
    "    emb_b = mymodel.get_embedding(tok_b)\n",
    "    emb_c = mymodel.get_embedding(tok_c)\n",
    "\n",
    "    new_emb = emb_a - emb_b + emb_c\n",
    "    closest_ids = mymodel.find_closest_embeddings(new_emb, n=5)\n",
    "    closest_ids = (closest_ids.to('cpu')).flatten().tolist()\n",
    "    print(f\"Closest tokens for: '{a}' - '{b}' + '{c}'\\n{'-'*60}\")\n",
    "    for i, id in enumerate(closest_ids):\n",
    "        print(f\"Id: {i} - {tokenizer.decode(id)}\")\n",
    "\n",
    "a = \"hands\"\n",
    "b = \"hand\"\n",
    "c = \"leg\"\n",
    "closest_five_arith(a, b, c)"
   ]
  }
 ],
 "metadata": {
  "kernelspec": {
   "display_name": "Python 3 (ipykernel)",
   "language": "python",
   "name": "python3"
  },
  "language_info": {
   "codemirror_mode": {
    "name": "ipython",
    "version": 3
   },
   "file_extension": ".py",
   "mimetype": "text/x-python",
   "name": "python",
   "nbconvert_exporter": "python",
   "pygments_lexer": "ipython3",
   "version": "3.11.7"
  }
 },
 "nbformat": 4,
 "nbformat_minor": 5
}
